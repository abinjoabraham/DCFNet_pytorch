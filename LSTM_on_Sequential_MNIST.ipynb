{
  "nbformat": 4,
  "nbformat_minor": 0,
  "metadata": {
    "colab": {
      "name": "LSTM on Sequential MNIST.ipynb",
      "version": "0.3.2",
      "provenance": [],
      "collapsed_sections": [],
      "include_colab_link": true
    },
    "kernelspec": {
      "name": "python3",
      "display_name": "Python 3"
    }
  },
  "cells": [
    {
      "cell_type": "markdown",
      "metadata": {
        "id": "view-in-github",
        "colab_type": "text"
      },
      "source": [
        "<a href=\"https://colab.research.google.com/github/abinjoabraham/DCFNet_pytorch/blob/master/LSTM_on_Sequential_MNIST.ipynb\" target=\"_parent\"><img src=\"https://colab.research.google.com/assets/colab-badge.svg\" alt=\"Open In Colab\"/></a>"
      ]
    },
    {
      "cell_type": "code",
      "metadata": {
        "id": "BPnDv76uwtol",
        "colab_type": "code",
        "outputId": "63b7e7d1-40cd-407b-d82c-7d12cf3f69a7",
        "colab": {
          "base_uri": "https://localhost:8080/",
          "height": 411
        }
      },
      "source": [
        "import tensorflow as tf\n",
        "from tensorflow.contrib import rnn\n",
        "#import mnist dataset\n",
        "from tensorflow.examples.tutorials.mnist import input_data\n",
        "mnist=input_data.read_data_sets(\"/tmp/data/\",one_hot=True)\n",
        "\n",
        "#define constants\n",
        "#unrolled through 28 time steps\n",
        "time_steps=28\n",
        "#hidden LSTM units\n",
        "num_units=128\n",
        "#rows of 28 pixels\n",
        "n_input=28\n",
        "#learning rate for adam\n",
        "learning_rate=0.001\n",
        "#mnist is meant to be classified in 10 classes(0-9).\n",
        "n_classes=10\n",
        "#size of batch\n",
        "batch_size=128\n"
      ],
      "execution_count": 1,
      "outputs": [
        {
          "output_type": "stream",
          "text": [
            "WARNING:tensorflow:From <ipython-input-1-9025695b3821>:5: read_data_sets (from tensorflow.contrib.learn.python.learn.datasets.mnist) is deprecated and will be removed in a future version.\n",
            "Instructions for updating:\n",
            "Please use alternatives such as official/mnist/dataset.py from tensorflow/models.\n",
            "WARNING:tensorflow:From /usr/local/lib/python3.6/dist-packages/tensorflow/contrib/learn/python/learn/datasets/mnist.py:260: maybe_download (from tensorflow.contrib.learn.python.learn.datasets.base) is deprecated and will be removed in a future version.\n",
            "Instructions for updating:\n",
            "Please write your own downloading logic.\n",
            "WARNING:tensorflow:From /usr/local/lib/python3.6/dist-packages/tensorflow/contrib/learn/python/learn/datasets/mnist.py:262: extract_images (from tensorflow.contrib.learn.python.learn.datasets.mnist) is deprecated and will be removed in a future version.\n",
            "Instructions for updating:\n",
            "Please use tf.data to implement this functionality.\n",
            "Extracting /tmp/data/train-images-idx3-ubyte.gz\n",
            "WARNING:tensorflow:From /usr/local/lib/python3.6/dist-packages/tensorflow/contrib/learn/python/learn/datasets/mnist.py:267: extract_labels (from tensorflow.contrib.learn.python.learn.datasets.mnist) is deprecated and will be removed in a future version.\n",
            "Instructions for updating:\n",
            "Please use tf.data to implement this functionality.\n",
            "Extracting /tmp/data/train-labels-idx1-ubyte.gz\n",
            "WARNING:tensorflow:From /usr/local/lib/python3.6/dist-packages/tensorflow/contrib/learn/python/learn/datasets/mnist.py:110: dense_to_one_hot (from tensorflow.contrib.learn.python.learn.datasets.mnist) is deprecated and will be removed in a future version.\n",
            "Instructions for updating:\n",
            "Please use tf.one_hot on tensors.\n",
            "Extracting /tmp/data/t10k-images-idx3-ubyte.gz\n",
            "Extracting /tmp/data/t10k-labels-idx1-ubyte.gz\n",
            "WARNING:tensorflow:From /usr/local/lib/python3.6/dist-packages/tensorflow/contrib/learn/python/learn/datasets/mnist.py:290: DataSet.__init__ (from tensorflow.contrib.learn.python.learn.datasets.mnist) is deprecated and will be removed in a future version.\n",
            "Instructions for updating:\n",
            "Please use alternatives such as official/mnist/dataset.py from tensorflow/models.\n"
          ],
          "name": "stdout"
        }
      ]
    },
    {
      "cell_type": "markdown",
      "metadata": {
        "id": "fw2Xu5utw-AG",
        "colab_type": "text"
      },
      "source": [
        "This notebook has been taken from the blog https://jasdeep06.github.io/posts/Understanding-LSTM-in-Tensorflow-MNIST/ . Also the main aim of this one is to compare with the sequential mnist dataset experiment performance with the RNN alternative TCN. "
      ]
    },
    {
      "cell_type": "code",
      "metadata": {
        "id": "btTEbDUSxAcZ",
        "colab_type": "code",
        "outputId": "cbc1dd82-8c55-4264-ab8a-4879e9b7197d",
        "colab": {
          "base_uri": "https://localhost:8080/",
          "height": 88
        }
      },
      "source": [
        "#weights and biases of appropriate shape to accomplish above task\n",
        "out_weights=tf.Variable(tf.random_normal([num_units,n_classes]))\n",
        "out_bias=tf.Variable(tf.random_normal([n_classes]))\n",
        "\n",
        "#defining placeholders\n",
        "#input image placeholder\n",
        "x=tf.placeholder(\"float\",[None,time_steps,n_input])\n",
        "#input label placeholder\n",
        "y=tf.placeholder(\"float\",[None,n_classes])\n"
      ],
      "execution_count": 2,
      "outputs": [
        {
          "output_type": "stream",
          "text": [
            "WARNING:tensorflow:From /usr/local/lib/python3.6/dist-packages/tensorflow/python/framework/op_def_library.py:263: colocate_with (from tensorflow.python.framework.ops) is deprecated and will be removed in a future version.\n",
            "Instructions for updating:\n",
            "Colocations handled automatically by placer.\n"
          ],
          "name": "stdout"
        }
      ]
    },
    {
      "cell_type": "code",
      "metadata": {
        "id": "FAGbs9F0xSzy",
        "colab_type": "code",
        "colab": {}
      },
      "source": [
        "#processing the input tensor from [batch_size,n_steps,n_input] to \"time_steps\" number of [batch_size,n_input] tensors\n",
        "input=tf.unstack(x ,time_steps,1)\n"
      ],
      "execution_count": 0,
      "outputs": []
    },
    {
      "cell_type": "code",
      "metadata": {
        "id": "8Am6h8rTxYOp",
        "colab_type": "code",
        "outputId": "620510ea-b165-4208-9789-c013d86b7f0a",
        "colab": {
          "base_uri": "https://localhost:8080/",
          "height": 119
        }
      },
      "source": [
        "lstm_layer=rnn.BasicLSTMCell(num_units,forget_bias=1)\n",
        "outputs,_=rnn.static_rnn(lstm_layer,input,dtype=\"float32\")\n"
      ],
      "execution_count": 4,
      "outputs": [
        {
          "output_type": "stream",
          "text": [
            "WARNING:tensorflow:From <ipython-input-4-a79f039ff347>:1: BasicLSTMCell.__init__ (from tensorflow.python.ops.rnn_cell_impl) is deprecated and will be removed in a future version.\n",
            "Instructions for updating:\n",
            "This class is equivalent as tf.keras.layers.LSTMCell, and will be replaced by that in Tensorflow 2.0.\n",
            "WARNING:tensorflow:From <ipython-input-4-a79f039ff347>:2: static_rnn (from tensorflow.python.ops.rnn) is deprecated and will be removed in a future version.\n",
            "Instructions for updating:\n",
            "Please use `keras.layers.RNN(cell, unroll=True)`, which is equivalent to this API\n"
          ],
          "name": "stdout"
        }
      ]
    },
    {
      "cell_type": "code",
      "metadata": {
        "id": "ywxdTBKgxb-J",
        "colab_type": "code",
        "colab": {}
      },
      "source": [
        "#converting last output of dimension [batch_size,num_units] to [batch_size,n_classes] by out_weight multiplication\n",
        "prediction=tf.matmul(outputs[-1],out_weights)+out_bias\n"
      ],
      "execution_count": 0,
      "outputs": []
    },
    {
      "cell_type": "code",
      "metadata": {
        "id": "GYxANNPlxe2D",
        "colab_type": "code",
        "outputId": "d34d6495-7e68-499b-eab8-f08d9ee1fdd3",
        "colab": {
          "base_uri": "https://localhost:8080/",
          "height": 173
        }
      },
      "source": [
        "#loss_function\n",
        "loss=tf.reduce_mean(tf.nn.softmax_cross_entropy_with_logits(logits=prediction,labels=y))\n",
        "#optimization\n",
        "opt=tf.train.AdamOptimizer(learning_rate=learning_rate).minimize(loss)\n",
        "\n",
        "#model evaluation\n",
        "correct_prediction=tf.equal(tf.argmax(prediction,1),tf.argmax(y,1))\n",
        "accuracy=tf.reduce_mean(tf.cast(correct_prediction,tf.float32))\n"
      ],
      "execution_count": 6,
      "outputs": [
        {
          "output_type": "stream",
          "text": [
            "WARNING:tensorflow:From <ipython-input-6-bc32ddc8c38c>:1: softmax_cross_entropy_with_logits (from tensorflow.python.ops.nn_ops) is deprecated and will be removed in a future version.\n",
            "Instructions for updating:\n",
            "\n",
            "Future major versions of TensorFlow will allow gradients to flow\n",
            "into the labels input on backprop by default.\n",
            "\n",
            "See `tf.nn.softmax_cross_entropy_with_logits_v2`.\n",
            "\n"
          ],
          "name": "stdout"
        }
      ]
    },
    {
      "cell_type": "code",
      "metadata": {
        "id": "GnYiVTq9xjrJ",
        "colab_type": "code",
        "outputId": "7458a094-bee9-47e6-9a74-2b09c6f030d1",
        "colab": {
          "base_uri": "https://localhost:8080/",
          "height": 493
        }
      },
      "source": [
        "#initialize variables\n",
        "init=tf.global_variables_initializer()\n",
        "with tf.Session() as sess:\n",
        "    sess.run(init)\n",
        "    iter=1\n",
        "    while iter<800:\n",
        "        batch_x,batch_y=mnist.train.next_batch(batch_size=batch_size)\n",
        "\n",
        "        batch_x=batch_x.reshape((batch_size,time_steps,n_input))\n",
        "\n",
        "        sess.run(opt, feed_dict={x: batch_x, y: batch_y})\n",
        "\n",
        "        if iter %100==0:\n",
        "            acc=sess.run(accuracy,feed_dict={x:batch_x,y:batch_y})\n",
        "            los=sess.run(loss,feed_dict={x:batch_x,y:batch_y})\n",
        "            print(\"For iter \",iter)\n",
        "            print(\"Accuracy \",acc)\n",
        "            print(\"Loss \",los)\n",
        "            print(\"__________________\")\n",
        "\n",
        "        iter=iter+1\n"
      ],
      "execution_count": 7,
      "outputs": [
        {
          "output_type": "stream",
          "text": [
            "For iter  100\n",
            "Accuracy  0.8671875\n",
            "Loss  0.40793324\n",
            "__________________\n",
            "For iter  200\n",
            "Accuracy  0.875\n",
            "Loss  0.3413241\n",
            "__________________\n",
            "For iter  300\n",
            "Accuracy  0.9375\n",
            "Loss  0.1902251\n",
            "__________________\n",
            "For iter  400\n",
            "Accuracy  0.9765625\n",
            "Loss  0.097381964\n",
            "__________________\n",
            "For iter  500\n",
            "Accuracy  0.984375\n",
            "Loss  0.06562196\n",
            "__________________\n",
            "For iter  600\n",
            "Accuracy  0.984375\n",
            "Loss  0.04225923\n",
            "__________________\n",
            "For iter  700\n",
            "Accuracy  0.9765625\n",
            "Loss  0.09049718\n",
            "__________________\n"
          ],
          "name": "stdout"
        }
      ]
    }
  ]
}